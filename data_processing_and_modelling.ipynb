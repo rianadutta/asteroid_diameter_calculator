{
 "cells": [
  {
   "cell_type": "code",
   "execution_count": 105,
   "metadata": {},
   "outputs": [
    {
     "name": "stderr",
     "output_type": "stream",
     "text": [
      "/var/folders/bd/kfz6tvds4_bfgj09gr0wlj780000gn/T/ipykernel_25152/3339123711.py:6: DtypeWarning: Columns (9) have mixed types. Specify dtype option on import or set low_memory=False.\n",
      "  df = pd.read_csv('processed.csv')\n"
     ]
    }
   ],
   "source": [
    "import pandas as pd\n",
    "import numpy as np\n",
    "from scipy import stats\n",
    "\n",
    "# import data\n",
    "df = pd.read_csv('processed.csv')\n",
    "\n",
    "# drop unnecessary columns\n",
    "df.drop(labels=[\"index\",\"pha\"], axis=1, inplace=True)\n",
    "\n",
    "# replace Y/N with 1/0\n",
    "df['neo'] = df['neo'].map({'Y': 1, 'N': 0})\n",
    "\n",
    "# type cast data\n",
    "df = df.astype(float)\n",
    "\n",
    "# remove outliers\n",
    "for column in df:\n",
    "    if column not in [\"orbit_condition_code\",\"diameter\",\"neo\"]:\n",
    "        df=df[(np.abs(stats.zscore(df[column])) < 3)]\n",
    "\n",
    "# normalize data\n",
    "def min_max_scaling(column):\n",
    "    return (column-column.min())/(column.max()-column.min())\n",
    "for column in df.columns:\n",
    "    if column != 'diameter':\n",
    "        df[column]=min_max_scaling(df[column])\n",
    "\n",
    "# shuffle dataframe\n",
    "df = df.sample(frac = 1)\n",
    "\n",
    "# split dataframe into train and test\n",
    "split_index = int(df.shape[0] * 0.8)\n",
    "df_train = df.iloc[:split_index]\n",
    "df_test = df.iloc[split_index:]\n",
    "\n",
    "# split train and test into X and Y\n",
    "Y_train = df_train['diameter']\n",
    "Y_test = df_test['diameter']\n",
    "X_train = df_train.drop(labels='diameter',axis=1)\n",
    "X_test = df_test.drop(labels='diameter',axis=1)"
   ]
  },
  {
   "cell_type": "code",
   "execution_count": 106,
   "metadata": {},
   "outputs": [
    {
     "data": {
      "text/plain": [
       "28.999"
      ]
     },
     "execution_count": 106,
     "metadata": {},
     "output_type": "execute_result"
    }
   ],
   "source": [
    "Y_test.max()"
   ]
  },
  {
   "cell_type": "code",
   "execution_count": 75,
   "metadata": {},
   "outputs": [],
   "source": [
    "from data_processing import *\n",
    "\n",
    "import pandas as pd\n",
    "from sklearn.neural_network import MLPRegressor\n",
    "from sklearn import metrics\n",
    "import matplotlib.pyplot as plt\n",
    "import numpy as np"
   ]
  },
  {
   "cell_type": "code",
   "execution_count": 76,
   "metadata": {},
   "outputs": [
    {
     "data": {
      "text/plain": [
       "MLPRegressor(learning_rate_init=0.002, max_iter=300)"
      ]
     },
     "execution_count": 76,
     "metadata": {},
     "output_type": "execute_result"
    }
   ],
   "source": [
    "model=MLPRegressor(learning_rate_init=0.002, max_iter=300)\n",
    "model.fit(X_train, Y_train)"
   ]
  },
  {
   "cell_type": "code",
   "execution_count": 77,
   "metadata": {},
   "outputs": [
    {
     "name": "stdout",
     "output_type": "stream",
     "text": [
      "0.29374571683988027 0.19193378874970174 0.9561535822754476\n",
      "0.3027439213766284 0.21363564908257518 0.9524996243899969\n",
      "[5.72219283 8.4650949  3.97433548 4.45420646 5.7679854  4.93219678\n",
      " 1.99145095 1.85337761 4.60763804 2.32286455]\n",
      "[5.539 7.91  3.499 4.08  5.961 4.605 1.936 1.932 4.954 2.363]\n"
     ]
    }
   ],
   "source": [
    "mae = metrics.mean_absolute_error(Y_train, model.predict(X_train))\n",
    "mse = metrics.mean_squared_error(Y_train, model.predict(X_train))\n",
    "rsq = metrics.r2_score(Y_train, model.predict(X_train))\n",
    "print(mae, mse, rsq)\n",
    "\n",
    "mae = metrics.mean_absolute_error(Y_test, model.predict(X_test))\n",
    "mse = metrics.mean_squared_error(Y_test, model.predict(X_test))\n",
    "rsq = metrics.r2_score(Y_test, model.predict(X_test))\n",
    "print(mae, mse, rsq)\n",
    "\n",
    "print(model.predict(X_test)[:10])\n",
    "print(np.array(Y_test)[:10])"
   ]
  },
  {
   "cell_type": "code",
   "execution_count": 78,
   "metadata": {},
   "outputs": [
    {
     "name": "stdout",
     "output_type": "stream",
     "text": [
      "Training Accuracy :  0.9128338610984894\n",
      "Test Accuracy :  0.9089099568138201\n"
     ]
    }
   ],
   "source": [
    "from sklearn.ensemble import RandomForestRegressor\n",
    "\n",
    "rf_reg = RandomForestRegressor(n_estimators=400, max_features=5, max_depth=6)\n",
    "rf_reg.fit(X_train, Y_train)\n",
    "pred = rf_reg.predict(X_test)\n",
    "\n",
    "print('Training Accuracy : ' , rf_reg.score(X_train, Y_train))\n",
    "print('Test Accuracy : ' , rf_reg.score(X_test, Y_test))"
   ]
  },
  {
   "cell_type": "code",
   "execution_count": 79,
   "metadata": {},
   "outputs": [
    {
     "name": "stdout",
     "output_type": "stream",
     "text": [
      "0.8776588388101622\n",
      "[5.06689199 8.77600348 3.30538833 4.27849398 5.67640218 4.89907981\n",
      " 2.07603195 2.36711911 4.07778034 2.93956784]\n",
      "[5.539 7.91  3.499 4.08  5.961 4.605 1.936 1.932 4.954 2.363]\n",
      "(24875,)\n",
      "(24875,)\n"
     ]
    }
   ],
   "source": [
    "mse = metrics.r2_score(pred, Y_test)\n",
    "print(mse)\n",
    "#print(pred)\n",
    "print(pred[:10])\n",
    "print(np.array(Y_test)[:10])\n",
    "print(pred.shape)\n",
    "print(Y_test.shape)"
   ]
  },
  {
   "cell_type": "code",
   "execution_count": 80,
   "metadata": {},
   "outputs": [
    {
     "name": "stdout",
     "output_type": "stream",
     "text": [
      "0.40968266568699\n"
     ]
    },
    {
     "data": {
      "image/png": "[encoded data removed]",
      "text/plain": [
       "<Figure size 432x288 with 1 Axes>"
      ]
     },
     "metadata": {
      "needs_background": "light"
     },
     "output_type": "display_data"
    }
   ],
   "source": [
    "x = np.array(Y_test)\n",
    "y = np.array(pred)\n",
    "print(metrics.mean_squared_error(x, y))\n",
    "plt.plot(x, y,linestyle='',marker='.')\n",
    "\n",
    "plt.show()"
   ]
  },
  {
   "cell_type": "code",
   "execution_count": 81,
   "metadata": {},
   "outputs": [
    {
     "data": {
      "text/plain": [
       "0.8527519227279667"
      ]
     },
     "execution_count": 81,
     "metadata": {},
     "output_type": "execute_result"
    }
   ],
   "source": [
    "from sklearn.linear_model import LinearRegression\n",
    "from sklearn.metrics import r2_score\n",
    "\n",
    "lr=LinearRegression()\n",
    "\n",
    "# training\n",
    "lr.fit(X_train,Y_train)\n",
    "\n",
    "# predicting\n",
    "Y_prediction_lr=lr.predict(X_test)\n",
    "\n",
    "# scoring\n",
    "score_lr=r2_score(Y_test,Y_prediction_lr)\n",
    "score_lr"
   ]
  },
  {
   "cell_type": "code",
   "execution_count": null,
   "metadata": {},
   "outputs": [],
   "source": []
  }
 ],
 "metadata": {
  "kernelspec": {
   "display_name": "Python 3.9.12 ('base')",
   "language": "python",
   "name": "python3"
  },
  "language_info": {
   "codemirror_mode": {
    "name": "ipython",
    "version": 3
   },
   "file_extension": ".py",
   "mimetype": "text/x-python",
   "name": "python",
   "nbconvert_exporter": "python",
   "pygments_lexer": "ipython3",
   "version": "3.9.12"
  },
  "orig_nbformat": 4,
  "vscode": {
   "interpreter": {
    "hash": "8e63610907b05fe35711c35d7a559f5b46704a8a8dda4b81151c10b8cf6c93c2"
   }
  }
 },
 "nbformat": 4,
 "nbformat_minor": 2
}
