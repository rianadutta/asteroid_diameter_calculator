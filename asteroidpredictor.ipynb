{
 "cells": [
  {
   "cell_type": "code",
   "execution_count": 3,
   "metadata": {},
   "outputs": [
    {
     "name": "stdout",
     "output_type": "stream",
     "text": [
      "full_name\n",
      "a\n",
      "e\n",
      "G\n",
      "i\n",
      "om\n",
      "w\n",
      "q\n",
      "ad\n",
      "per_y\n",
      "data_arc\n",
      "condition_code\n",
      "n_obs_used\n",
      "H\n",
      "diameter\n",
      "extent\n",
      "albedo\n",
      "rot_per\n",
      "GM\n",
      "BV\n",
      "UB\n",
      "IR\n",
      "spec_B\n",
      "spec_T\n",
      "neo\n",
      "pha\n",
      "moid\n"
     ]
    }
   ],
   "source": [
    "import pandas as pd\n",
    "\n",
    "df = pd.read_csv('data.csv')\n",
    "\n",
    "for n in df:\n",
    "    if not len(n) == 1085:\n",
    "        df.remove(n)\n",
    "df = pd.read_csv('data.csv')"
   ]
  }
 ],
 "metadata": {
  "kernelspec": {
   "display_name": "Python 3.8.11 ('NLP')",
   "language": "python",
   "name": "python3"
  },
  "language_info": {
   "codemirror_mode": {
    "name": "ipython",
    "version": 3
   },
   "file_extension": ".py",
   "mimetype": "text/x-python",
   "name": "python",
   "nbconvert_exporter": "python",
   "pygments_lexer": "ipython3",
   "version": "3.8.11"
  },
  "orig_nbformat": 4,
  "vscode": {
   "interpreter": {
    "hash": "fd54f08f6c81c2c298148b2413d90a1fdcdea9781777a02b430c91685f1d091e"
   }
  }
 },
 "nbformat": 4,
 "nbformat_minor": 2
}
