{
 "cells": [
  {
   "cell_type": "code",
   "execution_count": 22,
   "metadata": {},
   "outputs": [
    {
     "name": "stdout",
     "output_type": "stream",
     "text": [
      "0        939.4\n",
      "1          545\n",
      "2      246.596\n",
      "3        525.4\n",
      "4      106.699\n",
      "        ...   \n",
      "995     29.128\n",
      "996     20.274\n",
      "997     27.943\n",
      "998     16.848\n",
      "999      47.78\n",
      "Name: diameter, Length: 993, dtype: object\n",
      "                      full_name         a         e     G          i  \\\n",
      "0                       1 Ceres  2.769165  0.076009  0.12  10.594067   \n",
      "1                      2 Pallas  2.772466  0.230337  0.11  34.836234   \n",
      "2                        3 Juno  2.669150  0.256942  0.32  12.988919   \n",
      "3                       4 Vesta  2.361418  0.088721  0.32   7.141771   \n",
      "4                     5 Astraea  2.574249  0.191095   NaN   5.366988   \n",
      "..                          ...       ...       ...   ...        ...   \n",
      "995     996 Hilaritas (1923 NM)  3.089632  0.139933   NaN   0.658895   \n",
      "996        997 Priska (1923 NR)  2.669415  0.183016   NaN  10.508755   \n",
      "997         998 Bodea (1923 NU)  3.118658  0.212895   NaN  15.505144   \n",
      "998        999 Zachia (1923 NW)  2.610980  0.217247   NaN   9.760891   \n",
      "999      1000 Piazzia (1923 NZ)  3.171009  0.258552   NaN  20.574290   \n",
      "\n",
      "             om           w         q        ad     per_y  ...    rot_per  \\\n",
      "0     80.305532   73.597694  2.558684  2.979647  4.608202  ...   9.074170   \n",
      "1    173.080063  310.048857  2.133865  3.411067  4.616444  ...   7.813200   \n",
      "2    169.852760  248.138626  1.983332  3.354967  4.360814  ...   7.210000   \n",
      "3    103.810804  150.728541  2.151909  2.570926  3.628837  ...   5.342128   \n",
      "4    141.576604  358.687608  2.082324  3.066174  4.130323  ...  16.806000   \n",
      "..          ...         ...       ...       ...       ...  ...        ...   \n",
      "995  347.399824  146.967818  2.657291  3.521974  5.430858  ...  10.050000   \n",
      "996  247.098596   51.203671  2.180869  3.157961  4.361464  ...  16.220000   \n",
      "997  301.179202   72.139012  2.454710  3.782606  5.507567  ...   8.574000   \n",
      "998  214.970803  127.873970  2.043752  3.178209  4.219040  ...  22.837000   \n",
      "999  323.735618  280.897670  2.351138  3.990880  5.646826  ...   9.470000   \n",
      "\n",
      "          GM     BV     UB  IR  spec_B  spec_T  neo  pha     moid  \n",
      "0    62.6284  0.713  0.426 NaN       C       G    N    N  1.59478  \n",
      "1    14.3000  0.635  0.284 NaN       B       B    N    N  1.23324  \n",
      "2        NaN  0.824  0.433 NaN      Sk       S    N    N  1.03454  \n",
      "3    17.8000  0.782  0.492 NaN       V       V    N    N  1.13948  \n",
      "4        NaN  0.826  0.411 NaN       S       S    N    N  1.09589  \n",
      "..       ...    ...    ...  ..     ...     ...  ...  ...      ...  \n",
      "995      NaN  0.686  0.392 NaN     NaN       B    N    N  1.67188  \n",
      "996      NaN    NaN    NaN NaN      Ch     NaN    N    N  1.18173  \n",
      "997      NaN    NaN    NaN NaN     NaN     NaN    N    N  1.50529  \n",
      "998      NaN    NaN    NaN NaN     NaN     NaN    N    N  1.05283  \n",
      "999      NaN    NaN    NaN NaN     NaN     NaN    N    N  1.43884  \n",
      "\n",
      "[993 rows x 26 columns]\n",
      "993\n",
      "993\n",
      "993\n",
      "993\n",
      "993\n",
      "993\n",
      "993\n",
      "993\n",
      "993\n",
      "993\n",
      "993\n",
      "993\n",
      "993\n",
      "993\n",
      "993\n",
      "993\n",
      "993\n",
      "993\n",
      "993\n",
      "993\n",
      "993\n",
      "993\n",
      "993\n",
      "993\n",
      "993\n",
      "993\n",
      "993\n"
     ]
    },
    {
     "name": "stderr",
     "output_type": "stream",
     "text": [
      "C:\\Users\\riana\\AppData\\Local\\Temp\\ipykernel_4240\\1971039716.py:15: FutureWarning: elementwise comparison failed; returning scalar instead, but in the future will perform elementwise comparison\n",
      "  while 'NaN' in values:\n"
     ]
    }
   ],
   "source": [
    "import pandas as pd\n",
    "\n",
    "df = pd.read_csv('data.csv')\n",
    "\n",
    "#deleting rows where diameter is null\n",
    "df=df[df['diameter'].notnull()]\n",
    "\n",
    "Y=df['diameter']\n",
    "X=df.drop(['diameter'], axis=1)\n",
    "print(Y)\n",
    "print(X)\n",
    "\n",
    "for n in df:\n",
    "    values = df[n].values\n",
    "    while 'NaN' in values:\n",
    "        values.remove('NaN')\n",
    "    print(len(values))\n",
    "\n",
    "\n",
    "\n",
    "\n",
    "df = pd.read_csv('data.csv')"
   ]
  }
 ],
 "metadata": {
  "kernelspec": {
   "display_name": "Python 3.8.11 ('NLP')",
   "language": "python",
   "name": "python3"
  },
  "language_info": {
   "codemirror_mode": {
    "name": "ipython",
    "version": 3
   },
   "file_extension": ".py",
   "mimetype": "text/x-python",
   "name": "python",
   "nbconvert_exporter": "python",
   "pygments_lexer": "ipython3",
   "version": "3.8.11"
  },
  "orig_nbformat": 4,
  "vscode": {
   "interpreter": {
    "hash": "fd54f08f6c81c2c298148b2413d90a1fdcdea9781777a02b430c91685f1d091e"
   }
  }
 },
 "nbformat": 4,
 "nbformat_minor": 2
}
