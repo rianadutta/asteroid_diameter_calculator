{
 "cells": [
  {
   "cell_type": "code",
   "execution_count": 6,
   "metadata": {},
   "outputs": [
    {
     "name": "stderr",
     "output_type": "stream",
     "text": [
      "c:\\Users\\riana\\anaconda3\\envs\\NLP\\lib\\site-packages\\IPython\\core\\interactiveshell.py:3398: DtypeWarning: Columns (9) have mixed types.Specify dtype option on import or set low_memory=False.\n",
      "  exec(code_obj, self.user_global_ns, self.user_ns)\n"
     ]
    },
    {
     "name": "stdout",
     "output_type": "stream",
     "text": [
      "136044\n"
     ]
    },
    {
     "name": "stderr",
     "output_type": "stream",
     "text": [
      "C:\\Users\\riana\\AppData\\Local\\Temp\\ipykernel_23692\\422752223.py:21: FutureWarning: elementwise comparison failed; returning scalar instead, but in the future will perform elementwise comparison\n",
      "  while 'NaN' in values:\n"
     ]
    }
   ],
   "source": [
    "import pandas as pd\n",
    "\n",
    "asteroid=pd.read_csv('Asteroid.csv')\n",
    "\n",
    "for p in asteroid:\n",
    "    asteroid=asteroid[asteroid[p].notnull()]\n",
    "print(len(asteroid))\n",
    "\n",
    "df.to_csv('processed.csv')\n",
    "\n",
    "df = pd.read_csv('data.csv')\n",
    "\n",
    "#deleting rows where diameter is null\n",
    "df=df[df['diameter'].notnull()]\n",
    "\n",
    "Y=df['diameter']\n",
    "X=df.drop(['diameter'], axis=1)\n",
    "#print(Y)\n",
    "#print(X)\n",
    "\n",
    "for n in df:\n",
    "    values = df[n].values\n",
    "    while 'NaN' in values:\n",
    "        values.remove('NaN')\n",
    "   # print(len(values))\n",
    "\n",
    "\n",
    "\n",
    "\n",
    "df = pd.read_csv('data.csv')\n"
   ]
  }
 ],
 "metadata": {
  "kernelspec": {
   "display_name": "Python 3.8.11 ('NLP')",
   "language": "python",
   "name": "python3"
  },
  "language_info": {
   "codemirror_mode": {
    "name": "ipython",
    "version": 3
   },
   "file_extension": ".py",
   "mimetype": "text/x-python",
   "name": "python",
   "nbconvert_exporter": "python",
   "pygments_lexer": "ipython3",
   "version": "3.8.11"
  },
  "orig_nbformat": 4,
  "vscode": {
   "interpreter": {
    "hash": "fd54f08f6c81c2c298148b2413d90a1fdcdea9781777a02b430c91685f1d091e"
   }
  }
 },
 "nbformat": 4,
 "nbformat_minor": 2
}
