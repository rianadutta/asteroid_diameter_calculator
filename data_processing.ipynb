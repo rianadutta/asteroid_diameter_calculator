{
 "cells": [
  {
   "cell_type": "code",
   "execution_count": 2,
   "metadata": {},
   "outputs": [],
   "source": [
    "import pandas as pd\n",
    "from sklearn.neural_network import MLPRegressor\n",
    "from sklearn import metrics"
   ]
  },
  {
   "cell_type": "code",
   "execution_count": 3,
   "metadata": {},
   "outputs": [
    {
     "name": "stderr",
     "output_type": "stream",
     "text": [
      "/var/folders/bd/kfz6tvds4_bfgj09gr0wlj780000gn/T/ipykernel_20966/1609007604.py:2: DtypeWarning: Columns (9) have mixed types. Specify dtype option on import or set low_memory=False.\n",
      "  df = pd.read_csv('processed.csv')\n"
     ]
    },
    {
     "data": {
      "text/html": [
       "<div>\n",
       "<style scoped>\n",
       "    .dataframe tbody tr th:only-of-type {\n",
       "        vertical-align: middle;\n",
       "    }\n",
       "\n",
       "    .dataframe tbody tr th {\n",
       "        vertical-align: top;\n",
       "    }\n",
       "\n",
       "    .dataframe thead th {\n",
       "        text-align: right;\n",
       "    }\n",
       "</style>\n",
       "<table border=\"1\" class=\"dataframe\">\n",
       "  <thead>\n",
       "    <tr style=\"text-align: right;\">\n",
       "      <th></th>\n",
       "      <th>semi-major_axis</th>\n",
       "      <th>perihelion_distance</th>\n",
       "      <th>aphelion_distance</th>\n",
       "      <th>orbital_period</th>\n",
       "      <th>data_arc-span</th>\n",
       "      <th>orbit_condition_code</th>\n",
       "      <th>number_observations</th>\n",
       "      <th>absolute_magnitude</th>\n",
       "      <th>diameter</th>\n",
       "      <th>albedo</th>\n",
       "      <th>neo</th>\n",
       "      <th>pha</th>\n",
       "      <th>moid</th>\n",
       "    </tr>\n",
       "  </thead>\n",
       "  <tbody>\n",
       "    <tr>\n",
       "      <th>0</th>\n",
       "      <td>2.769165</td>\n",
       "      <td>2.558684</td>\n",
       "      <td>2.979647</td>\n",
       "      <td>4.608202</td>\n",
       "      <td>8822.0</td>\n",
       "      <td>0.0</td>\n",
       "      <td>1002</td>\n",
       "      <td>3.34</td>\n",
       "      <td>939.4</td>\n",
       "      <td>0.0900</td>\n",
       "      <td>0</td>\n",
       "      <td>0</td>\n",
       "      <td>1.59478</td>\n",
       "    </tr>\n",
       "    <tr>\n",
       "      <th>1</th>\n",
       "      <td>2.772466</td>\n",
       "      <td>2.133865</td>\n",
       "      <td>3.411067</td>\n",
       "      <td>4.616444</td>\n",
       "      <td>72318.0</td>\n",
       "      <td>0.0</td>\n",
       "      <td>8490</td>\n",
       "      <td>4.13</td>\n",
       "      <td>545</td>\n",
       "      <td>0.1010</td>\n",
       "      <td>0</td>\n",
       "      <td>0</td>\n",
       "      <td>1.23324</td>\n",
       "    </tr>\n",
       "    <tr>\n",
       "      <th>2</th>\n",
       "      <td>2.669150</td>\n",
       "      <td>1.983332</td>\n",
       "      <td>3.354967</td>\n",
       "      <td>4.360814</td>\n",
       "      <td>72684.0</td>\n",
       "      <td>0.0</td>\n",
       "      <td>7104</td>\n",
       "      <td>5.33</td>\n",
       "      <td>246.596</td>\n",
       "      <td>0.2140</td>\n",
       "      <td>0</td>\n",
       "      <td>0</td>\n",
       "      <td>1.03454</td>\n",
       "    </tr>\n",
       "    <tr>\n",
       "      <th>3</th>\n",
       "      <td>2.361418</td>\n",
       "      <td>2.151909</td>\n",
       "      <td>2.570926</td>\n",
       "      <td>3.628837</td>\n",
       "      <td>24288.0</td>\n",
       "      <td>0.0</td>\n",
       "      <td>9325</td>\n",
       "      <td>3.20</td>\n",
       "      <td>525.4</td>\n",
       "      <td>0.4228</td>\n",
       "      <td>0</td>\n",
       "      <td>0</td>\n",
       "      <td>1.13948</td>\n",
       "    </tr>\n",
       "    <tr>\n",
       "      <th>4</th>\n",
       "      <td>2.574249</td>\n",
       "      <td>2.082324</td>\n",
       "      <td>3.066174</td>\n",
       "      <td>4.130323</td>\n",
       "      <td>63431.0</td>\n",
       "      <td>0.0</td>\n",
       "      <td>2861</td>\n",
       "      <td>6.85</td>\n",
       "      <td>106.699</td>\n",
       "      <td>0.2740</td>\n",
       "      <td>0</td>\n",
       "      <td>0</td>\n",
       "      <td>1.09589</td>\n",
       "    </tr>\n",
       "  </tbody>\n",
       "</table>\n",
       "</div>"
      ],
      "text/plain": [
       "   semi-major_axis  perihelion_distance  aphelion_distance  orbital_period  \\\n",
       "0         2.769165             2.558684           2.979647        4.608202   \n",
       "1         2.772466             2.133865           3.411067        4.616444   \n",
       "2         2.669150             1.983332           3.354967        4.360814   \n",
       "3         2.361418             2.151909           2.570926        3.628837   \n",
       "4         2.574249             2.082324           3.066174        4.130323   \n",
       "\n",
       "   data_arc-span  orbit_condition_code  number_observations  \\\n",
       "0         8822.0                   0.0                 1002   \n",
       "1        72318.0                   0.0                 8490   \n",
       "2        72684.0                   0.0                 7104   \n",
       "3        24288.0                   0.0                 9325   \n",
       "4        63431.0                   0.0                 2861   \n",
       "\n",
       "   absolute_magnitude diameter  albedo  neo  pha     moid  \n",
       "0                3.34    939.4  0.0900    0    0  1.59478  \n",
       "1                4.13      545  0.1010    0    0  1.23324  \n",
       "2                5.33  246.596  0.2140    0    0  1.03454  \n",
       "3                3.20    525.4  0.4228    0    0  1.13948  \n",
       "4                6.85  106.699  0.2740    0    0  1.09589  "
      ]
     },
     "execution_count": 3,
     "metadata": {},
     "output_type": "execute_result"
    }
   ],
   "source": [
    "# import data\n",
    "df = pd.read_csv('processed.csv')\n",
    "\n",
    "# drop unnecessary columns\n",
    "df.drop(labels=\"index\", axis=1, inplace=True)\n",
    "\n",
    "# replace Y/N with 1/0\n",
    "df['neo'] = df['neo'].map({'Y': 1, 'N': 0})\n",
    "df['pha'] = df['pha'].map({'Y': 1, 'N': 0})\n",
    "\n",
    "df.head()"
   ]
  },
  {
   "cell_type": "code",
   "execution_count": 6,
   "metadata": {},
   "outputs": [],
   "source": [
    "# type cast data\n",
    "df = df.astype(float)\n",
    "\n",
    "# normalize data\n",
    "def min_max_scaling(column):\n",
    "    return (column-column.min())/(column.max()-column.min())\n",
    "for column in df.columns:\n",
    "    if column != 'diameter':\n",
    "        df[column]=min_max_scaling(df[column])\n",
    "\n",
    "# shuffle dataframe\n",
    "df = df.sample(frac = 1)\n",
    "\n",
    "# split dataframe into train and test\n",
    "split_index = int(df.shape[0] * 0.8)\n",
    "df_train = df.iloc[:split_index]\n",
    "df_test = df.iloc[split_index:]\n",
    "\n",
    "# split train and test into X and Y\n",
    "Y_train = df_train['diameter']\n",
    "Y_test = df_test['diameter']\n",
    "X_train = df_train.drop(labels='diameter',axis=1)\n",
    "X_test = df_test.drop(labels='diameter',axis=1)"
   ]
  },
  {
   "cell_type": "code",
   "execution_count": 7,
   "metadata": {},
   "outputs": [
    {
     "name": "stdout",
     "output_type": "stream",
     "text": [
      "Training Accuracy :  0.9788941666069408\n",
      "Test Accuracy :  0.966885344595357\n"
     ]
    }
   ],
   "source": [
    "from sklearn.ensemble import RandomForestRegressor\n",
    "\n",
    "rf_reg = RandomForestRegressor(n_estimators=400, max_depth=6)\n",
    "rf_reg.fit(X_train, Y_train)\n",
    "pred = rf_reg.predict(X_test)\n",
    "\n",
    "print('Training Accuracy : ' , rf_reg.score(X_train, Y_train))\n",
    "print('Test Accuracy : ' , rf_reg.score(X_test, Y_test))"
   ]
  },
  {
   "cell_type": "code",
   "execution_count": 11,
   "metadata": {},
   "outputs": [
    {
     "data": {
      "text/plain": [
       "0.41917237402621355"
      ]
     },
     "execution_count": 11,
     "metadata": {},
     "output_type": "execute_result"
    }
   ],
   "source": [
    "from sklearn.linear_model import LinearRegression\n",
    "from sklearn.metrics import r2_score\n",
    "\n",
    "lr=LinearRegression()\n",
    "\n",
    "# training\n",
    "lr.fit(X_train,Y_train)\n",
    "\n",
    "# predicting\n",
    "Y_prediction_lr=lr.predict(X_test)\n",
    "\n",
    "# scoring\n",
    "score_lr=r2_score(Y_test,Y_prediction_lr)\n",
    "score_lr"
   ]
  },
  {
   "cell_type": "code",
   "execution_count": null,
   "metadata": {},
   "outputs": [],
   "source": []
  }
 ],
 "metadata": {
  "kernelspec": {
   "display_name": "Python 3.9.12 ('base')",
   "language": "python",
   "name": "python3"
  },
  "language_info": {
   "codemirror_mode": {
    "name": "ipython",
    "version": 3
   },
   "file_extension": ".py",
   "mimetype": "text/x-python",
   "name": "python",
   "nbconvert_exporter": "python",
   "pygments_lexer": "ipython3",
   "version": "3.9.12"
  },
  "orig_nbformat": 4,
  "vscode": {
   "interpreter": {
    "hash": "8e63610907b05fe35711c35d7a559f5b46704a8a8dda4b81151c10b8cf6c93c2"
   }
  }
 },
 "nbformat": 4,
 "nbformat_minor": 2
}
