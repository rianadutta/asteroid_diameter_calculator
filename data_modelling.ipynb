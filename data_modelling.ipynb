{
 "cells": [
  {
   "cell_type": "code",
   "execution_count": 29,
   "metadata": {},
   "outputs": [],
   "source": [
    "from data_processing import *\n",
    "\n",
    "import pandas as pd\n",
    "from sklearn.neural_network import MLPRegressor\n",
    "from sklearn import metrics\n",
    "import matplotlib.pyplot as plt\n",
    "import numpy as np"
   ]
  },
  {
   "cell_type": "code",
   "execution_count": 30,
   "metadata": {},
   "outputs": [
    {
     "name": "stderr",
     "output_type": "stream",
     "text": [
      "/Users/rylandonohoe/opt/anaconda3/lib/python3.9/site-packages/sklearn/neural_network/_multilayer_perceptron.py:692: ConvergenceWarning: Stochastic Optimizer: Maximum iterations (200) reached and the optimization hasn't converged yet.\n",
      "  warnings.warn(\n"
     ]
    },
    {
     "data": {
      "text/plain": [
       "MLPRegressor()"
      ]
     },
     "execution_count": 30,
     "metadata": {},
     "output_type": "execute_result"
    }
   ],
   "source": [
    "model=MLPRegressor()\n",
    "model.fit(X_train, Y_train)"
   ]
  },
  {
   "cell_type": "code",
   "execution_count": 31,
   "metadata": {},
   "outputs": [
    {
     "name": "stdout",
     "output_type": "stream",
     "text": [
      "0.4643355329985055 2.949805484306342 0.9681248513958465\n"
     ]
    }
   ],
   "source": [
    "mae = metrics.mean_absolute_error(Y_train, model.predict(X_train))\n",
    "mse = metrics.mean_squared_error(Y_train, model.predict(X_train))\n",
    "rsq = metrics.r2_score(Y_train, model.predict(X_train))\n",
    "print(mae, mse, rsq)"
   ]
  },
  {
   "cell_type": "code",
   "execution_count": 32,
   "metadata": {},
   "outputs": [
    {
     "name": "stdout",
     "output_type": "stream",
     "text": [
      "Training Accuracy :  0.9470235048673149\n",
      "Test Accuracy :  0.9341073834701098\n"
     ]
    }
   ],
   "source": [
    "from sklearn.ensemble import RandomForestRegressor\n",
    "\n",
    "rf_reg = RandomForestRegressor(n_estimators=400, max_features=5, max_depth=6)\n",
    "rf_reg.fit(X_train, Y_train)\n",
    "pred = rf_reg.predict(X_test)\n",
    "\n",
    "print('Training Accuracy : ' , rf_reg.score(X_train, Y_train))\n",
    "print('Test Accuracy : ' , rf_reg.score(X_test, Y_test))"
   ]
  },
  {
   "cell_type": "code",
   "execution_count": 33,
   "metadata": {},
   "outputs": [
    {
     "name": "stdout",
     "output_type": "stream",
     "text": [
      "0.911811874608111\n",
      "[ 5.77174475  4.43851794  3.02718174  5.33217589  9.43262625  4.60197231\n",
      " 20.13659488  3.19358275  2.68904158  5.21501708]\n",
      "[ 6.739  4.766  1.995  6.551 10.663  3.932 31.605  2.81   1.62   5.344]\n",
      "(27209,)\n",
      "(27209,)\n"
     ]
    }
   ],
   "source": [
    "mse = metrics.r2_score(pred, Y_test)\n",
    "print(mse)\n",
    "#print(pred)\n",
    "print(pred[:10])\n",
    "print(np.array(Y_test)[:10])\n",
    "print(pred.shape)\n",
    "print(Y_test.shape)"
   ]
  },
  {
   "cell_type": "code",
   "execution_count": 34,
   "metadata": {},
   "outputs": [
    {
     "name": "stdout",
     "output_type": "stream",
     "text": [
      "4.92777464781036\n"
     ]
    },
    {
     "data": {
      "image/png": "[encoded data removed]",
      "text/plain": [
       "<Figure size 432x288 with 1 Axes>"
      ]
     },
     "metadata": {
      "needs_background": "light"
     },
     "output_type": "display_data"
    }
   ],
   "source": [
    "x = np.array(Y_test)\n",
    "y = np.array(pred)\n",
    "print(metrics.mean_squared_error(x, y))\n",
    "plt.plot(x, y,linestyle='',marker='.')\n",
    "\n",
    "plt.show()"
   ]
  },
  {
   "cell_type": "code",
   "execution_count": 35,
   "metadata": {},
   "outputs": [
    {
     "data": {
      "text/plain": [
       "0.5135896461684355"
      ]
     },
     "execution_count": 35,
     "metadata": {},
     "output_type": "execute_result"
    }
   ],
   "source": [
    "from sklearn.linear_model import LinearRegression\n",
    "from sklearn.metrics import r2_score\n",
    "\n",
    "lr=LinearRegression()\n",
    "\n",
    "# training\n",
    "lr.fit(X_train,Y_train)\n",
    "\n",
    "# predicting\n",
    "Y_prediction_lr=lr.predict(X_test)\n",
    "\n",
    "# scoring\n",
    "score_lr=r2_score(Y_test,Y_prediction_lr)\n",
    "score_lr"
   ]
  }
 ],
 "metadata": {
  "kernelspec": {
   "display_name": "Python 3.9.12 ('base')",
   "language": "python",
   "name": "python3"
  },
  "language_info": {
   "codemirror_mode": {
    "name": "ipython",
    "version": 3
   },
   "file_extension": ".py",
   "mimetype": "text/x-python",
   "name": "python",
   "nbconvert_exporter": "python",
   "pygments_lexer": "ipython3",
   "version": "3.9.12"
  },
  "orig_nbformat": 4,
  "vscode": {
   "interpreter": {
    "hash": "8e63610907b05fe35711c35d7a559f5b46704a8a8dda4b81151c10b8cf6c93c2"
   }
  }
 },
 "nbformat": 4,
 "nbformat_minor": 2
}
