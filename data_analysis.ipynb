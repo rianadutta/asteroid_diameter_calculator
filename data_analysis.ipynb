{
 "cells": [
  {
   "cell_type": "code",
   "execution_count": 20,
   "metadata": {},
   "outputs": [],
   "source": [
    "import matplotlib.pyplot as plt\n",
    "import numpy as np\n",
    "import pandas as pd\n",
    "from sklearn import metrics\n",
    "from scipy import stats\n",
    "from sklearn.ensemble import RandomForestRegressor\n",
    "from sklearn.linear_model import LinearRegression\n",
    "from sklearn.metrics import r2_score\n",
    "from sklearn.neighbors import KNeighborsRegressor\n",
    "from sklearn.neural_network import MLPRegressor\n",
    "from sklearn.preprocessing import StandardScaler"
   ]
  },
  {
   "cell_type": "markdown",
   "metadata": {},
   "source": [
    "# Data Processing"
   ]
  },
  {
   "cell_type": "markdown",
   "metadata": {},
   "source": [
    "Process NASA data for subsequent analysis using machine learning models."
   ]
  },
  {
   "cell_type": "code",
   "execution_count": 40,
   "metadata": {},
   "outputs": [
    {
     "name": "stderr",
     "output_type": "stream",
     "text": [
      "/var/folders/bd/kfz6tvds4_bfgj09gr0wlj780000gn/T/ipykernel_28268/2922929086.py:2: DtypeWarning: Columns (9) have mixed types. Specify dtype option on import or set low_memory=False.\n",
      "  df = pd.read_csv('processed.csv')\n"
     ]
    }
   ],
   "source": [
    "# import data\n",
    "df = pd.read_csv('processed.csv')\n",
    "\n",
    "# drop unnecessary columns\n",
    "df.drop(labels = [\"index\", \"pha\"], axis=1, inplace=True)\n",
    "\n",
    "# replace Y/N with 1/0\n",
    "df['neo'] = df['neo'].map({'Y':1,'N':0})\n",
    "\n",
    "# type cast data\n",
    "df = df.astype(float)\n",
    "\n",
    "# remove outliers\n",
    "for column in df:\n",
    "    if column not in [\"orbit_condition_code\", \"diameter\",\"neo\"]:\n",
    "        df=df[(np.abs(stats.zscore(df[column])) < 3)]\n",
    "\n",
    "# create nasa dataframe for subsequent analysis\n",
    "df_nasa = df[df[\"albedo\"] > 0]\n",
    "\n",
    "# normalize data\n",
    "def min_max_scaling(column):\n",
    "    return (column - column.min()) / (column.max() - column.min())\n",
    "for column in df.columns:\n",
    "    if column != 'diameter':\n",
    "        df[column]=min_max_scaling(df[column])\n",
    "\n",
    "# shuffle dataframe\n",
    "df = df.sample(frac = 1)\n",
    "\n",
    "# split dataframe into train and test\n",
    "split_index = int(df.shape[0] * 0.8)\n",
    "df_train = df.iloc[:split_index]\n",
    "df_test = df.iloc[split_index:]\n",
    "\n",
    "# split train and test into X and Y\n",
    "Y_train = df_train['diameter']\n",
    "Y_test = df_test['diameter']\n",
    "X_train = df_train.drop(labels = 'diameter', axis=1)\n",
    "X_test = df_test.drop(labels = 'diameter', axis=1)"
   ]
  },
  {
   "cell_type": "markdown",
   "metadata": {},
   "source": [
    "# Data Modelling"
   ]
  },
  {
   "cell_type": "markdown",
   "metadata": {},
   "source": [
    "Create and test four machine learning models to optimize prediction of asteroid diameter:\n",
    "1. multilayer perceptron;\n",
    "2. random forest;\n",
    "3. linear regression; and\n",
    "4. k-nearest neighbours."
   ]
  },
  {
   "cell_type": "markdown",
   "metadata": {},
   "source": [
    "### Multilayer Perceptron (MLP) Neural Network"
   ]
  },
  {
   "cell_type": "code",
   "execution_count": 22,
   "metadata": {},
   "outputs": [
    {
     "data": {
      "text/plain": [
       "MLPRegressor(learning_rate_init=0.002, max_iter=300)"
      ]
     },
     "execution_count": 22,
     "metadata": {},
     "output_type": "execute_result"
    }
   ],
   "source": [
    "# fit multilayer perceptron regressor to training data\n",
    "model = MLPRegressor(learning_rate_init = 0.002, max_iter = 300)\n",
    "model.fit(X_train, Y_train)"
   ]
  },
  {
   "cell_type": "code",
   "execution_count": 23,
   "metadata": {},
   "outputs": [
    {
     "name": "stdout",
     "output_type": "stream",
     "text": [
      "Mean Absolute Error: 0.31754346586610827\n",
      "Mean Squared Error: 0.25516818096902993\n",
      "R2 Score: 0.9630019110564803\n"
     ]
    }
   ],
   "source": [
    "# accuracy metrics on test data\n",
    "mae = metrics.mean_absolute_error(Y_test, model.predict(X_test))\n",
    "mse = metrics.mean_squared_error(Y_test, model.predict(X_test))\n",
    "rsq = metrics.r2_score(Y_test, model.predict(X_test))\n",
    "print(\"Mean Absolute Error:\", mae)\n",
    "print(\"Mean Squared Error:\", mse)\n",
    "print(\"R2 Score:\", rsq)\n",
    "\n",
    "Ypred = model.predict(X_test)\n",
    "MLPPred = Ypred"
   ]
  },
  {
   "cell_type": "code",
   "execution_count": 24,
   "metadata": {},
   "outputs": [
    {
     "data": {
      "text/plain": [
       "Text(0, 0.5, 'Diameter: Predicted value')"
      ]
     },
     "execution_count": 24,
     "metadata": {},
     "output_type": "execute_result"
    },
    {
     "data": {
      "image/png": "[encoded data removed]",
      "text/plain": [
       "<Figure size 432x288 with 1 Axes>"
      ]
     },
     "metadata": {
      "needs_background": "light"
     },
     "output_type": "display_data"
    }
   ],
   "source": [
    "# plot actual values against expected values\n",
    "x = np.array(Y_test)\n",
    "y = np.array(Ypred)\n",
    "plt.scatter(x, y, s = 3)\n",
    "plt.title(\"Multi-Layer Perceptron Regressor\")\n",
    "plt.xlabel(\"Diameter: Actual value\")\n",
    "plt.ylabel(\"Diameter: Predicted value\")"
   ]
  },
  {
   "cell_type": "markdown",
   "metadata": {},
   "source": [
    "### Random Forest Algorithm"
   ]
  },
  {
   "cell_type": "code",
   "execution_count": 25,
   "metadata": {},
   "outputs": [],
   "source": [
    "# fit random forest regressor to training data\n",
    "model = RandomForestRegressor(n_estimators = 400, max_features = 5, max_depth = 6)\n",
    "model.fit(X_train, Y_train)\n",
    "pred = model.predict(X_test)"
   ]
  },
  {
   "cell_type": "code",
   "execution_count": 26,
   "metadata": {},
   "outputs": [
    {
     "name": "stdout",
     "output_type": "stream",
     "text": [
      "Mean Absolute Error: 0.4942852893141853\n",
      "Mean Squared Error: 0.5088620101266588\n",
      "R2 Score: 0.9262175956298823\n"
     ]
    }
   ],
   "source": [
    "# accuracy metrics on test data\n",
    "mae = metrics.mean_absolute_error(Y_test, pred)\n",
    "mse = metrics.mean_squared_error(Y_test, pred)\n",
    "rsq = metrics.r2_score(Y_test, pred)\n",
    "print(\"Mean Absolute Error:\", mae)\n",
    "print(\"Mean Squared Error:\", mse)\n",
    "print(\"R2 Score:\", rsq)"
   ]
  },
  {
   "cell_type": "code",
   "execution_count": 27,
   "metadata": {},
   "outputs": [
    {
     "name": "stdout",
     "output_type": "stream",
     "text": [
      "0.5088620101266588\n"
     ]
    },
    {
     "data": {
      "text/plain": [
       "Text(0, 0.5, 'Diameter: Predicted value')"
      ]
     },
     "execution_count": 27,
     "metadata": {},
     "output_type": "execute_result"
    },
    {
     "data": {
      "image/png": "[encoded data removed]",
      "text/plain": [
       "<Figure size 432x288 with 1 Axes>"
      ]
     },
     "metadata": {
      "needs_background": "light"
     },
     "output_type": "display_data"
    }
   ],
   "source": [
    "# plot actual values against expected values\n",
    "x = np.array(Y_test)\n",
    "y = np.array(pred)\n",
    "print(metrics.mean_squared_error(x, y))\n",
    "plt.scatter(x, y, s = 3)\n",
    "plt.title(\"Random Forest Regressor\")\n",
    "plt.xlabel(\"Diameter: Actual value\")\n",
    "plt.ylabel(\"Diameter: Predicted value\")"
   ]
  },
  {
   "cell_type": "markdown",
   "metadata": {},
   "source": [
    "### Linear Regression"
   ]
  },
  {
   "cell_type": "code",
   "execution_count": 28,
   "metadata": {},
   "outputs": [],
   "source": [
    "# linear regression model\n",
    "lr = LinearRegression()\n",
    "\n",
    "# training\n",
    "lr.fit(X_train, Y_train)\n",
    "\n",
    "# predicting\n",
    "Y_prediction_lr = lr.predict(X_test)"
   ]
  },
  {
   "cell_type": "code",
   "execution_count": 29,
   "metadata": {},
   "outputs": [
    {
     "name": "stdout",
     "output_type": "stream",
     "text": [
      "Mean Absolute Error: 0.7356881994234334\n",
      "Mean Squared Error: 1.2599265772091595\n",
      "R2 Score: 0.8173170518798087\n"
     ]
    }
   ],
   "source": [
    "# accuracy metrics on test data\n",
    "mae = metrics.mean_absolute_error(Y_test, Y_prediction_lr)\n",
    "mse = metrics.mean_squared_error(Y_test, Y_prediction_lr)\n",
    "rsq = metrics.r2_score(Y_test, Y_prediction_lr)\n",
    "print(\"Mean Absolute Error:\", mae)\n",
    "print(\"Mean Squared Error:\", mse)\n",
    "print(\"R2 Score:\", rsq)"
   ]
  },
  {
   "cell_type": "code",
   "execution_count": 30,
   "metadata": {},
   "outputs": [
    {
     "data": {
      "text/plain": [
       "Text(0, 0.5, 'Diameter: Predicted value')"
      ]
     },
     "execution_count": 30,
     "metadata": {},
     "output_type": "execute_result"
    },
    {
     "data": {
      "image/png": "[encoded data removed]",
      "text/plain": [
       "<Figure size 432x288 with 1 Axes>"
      ]
     },
     "metadata": {
      "needs_background": "light"
     },
     "output_type": "display_data"
    }
   ],
   "source": [
    "# plot actual values against expected values\n",
    "x = np.array(Y_test)\n",
    "y = np.array(Y_prediction_lr)\n",
    "plt.scatter(x, y, s = 3)\n",
    "plt.title(\"Linear Regression\")\n",
    "plt.xlabel(\"Diameter: Actual value\")\n",
    "plt.ylabel(\"Diameter: Predicted value\")"
   ]
  },
  {
   "cell_type": "markdown",
   "metadata": {},
   "source": [
    "### k-Nearest Neighbours Algorithm"
   ]
  },
  {
   "cell_type": "code",
   "execution_count": 31,
   "metadata": {},
   "outputs": [],
   "source": [
    "scaler = StandardScaler()\n",
    "scaler.fit(X_train)\n",
    "\n",
    "X_train = scaler.transform(X_train)\n",
    "X_test = scaler.transform(X_test)\n",
    "\n",
    "regressor = KNeighborsRegressor(n_neighbors = 5)\n",
    "regressor.fit(X_train, Y_train)\n",
    "Y_pred = regressor.predict(X_test)"
   ]
  },
  {
   "cell_type": "code",
   "execution_count": 32,
   "metadata": {},
   "outputs": [
    {
     "name": "stdout",
     "output_type": "stream",
     "text": [
      "Mean Absolute Error: 0.4034770626997593\n",
      "Mean Squared Error: 0.4185670208925542\n",
      "R2 Score: 0.9393099100013321\n"
     ]
    }
   ],
   "source": [
    "# accuracy metrics on test data\n",
    "mae = metrics.mean_absolute_error(Y_test,Y_pred)\n",
    "mse = metrics.mean_squared_error(Y_test,Y_pred)\n",
    "rsq = metrics.r2_score(Y_test,Y_pred)\n",
    "\n",
    "print(\"Mean Absolute Error:\", mae)\n",
    "print(\"Mean Squared Error:\", mse)\n",
    "print(\"R2 Score:\", rsq)"
   ]
  },
  {
   "cell_type": "code",
   "execution_count": 33,
   "metadata": {},
   "outputs": [
    {
     "name": "stdout",
     "output_type": "stream",
     "text": [
      "0.4185670208925542\n"
     ]
    },
    {
     "data": {
      "text/plain": [
       "Text(0, 0.5, 'Diameter: Predicted value')"
      ]
     },
     "execution_count": 33,
     "metadata": {},
     "output_type": "execute_result"
    },
    {
     "data": {
      "image/png": "[encoded data removed]",
      "text/plain": [
       "<Figure size 432x288 with 1 Axes>"
      ]
     },
     "metadata": {
      "needs_background": "light"
     },
     "output_type": "display_data"
    }
   ],
   "source": [
    "# plot actual values against expected values\n",
    "x = np.array(Y_test)\n",
    "y = np.array(Y_pred)\n",
    "print(metrics.mean_squared_error(x, y))\n",
    "plt.scatter(x, y, s = 3)\n",
    "plt.title(\"k-Nearest Neighbours Regressor\")\n",
    "plt.xlabel(\"Diameter: Actual value\")\n",
    "plt.ylabel(\"Diameter: Predicted value\")"
   ]
  },
  {
   "cell_type": "markdown",
   "metadata": {},
   "source": [
    "# Analysis of NASA Formula"
   ]
  },
  {
   "cell_type": "markdown",
   "metadata": {},
   "source": [
    "Compare predictions of asteroid diameter from NASA's formula compared to measured values in dataframe."
   ]
  },
  {
   "cell_type": "code",
   "execution_count": 34,
   "metadata": {},
   "outputs": [],
   "source": [
    "# define NASA data\n",
    "X = df_nasa.drop(labels='diameter',axis=1)\n",
    "Y = df_nasa[\"diameter\"]\n",
    "\n",
    "# NASA formula\n",
    "nasa_diameter = (10 ** (3.1236-0.5*np.log10(X[\"albedo\"]) - 0.2 * X[\"absolute_magnitude\"]))"
   ]
  },
  {
   "cell_type": "code",
   "execution_count": 35,
   "metadata": {},
   "outputs": [
    {
     "name": "stdout",
     "output_type": "stream",
     "text": [
      "Mean Absolute Error: 0.4083328067236096\n",
      "Mean Squared Error: 0.4031058770606292\n",
      "R2 Score: 0.9409221602188128\n"
     ]
    }
   ],
   "source": [
    "# accuracy metrics on test data\n",
    "mae = metrics.mean_absolute_error(Y,nasa_diameter)\n",
    "mse = metrics.mean_squared_error(Y,nasa_diameter)\n",
    "rsq = metrics.r2_score(Y,nasa_diameter)\n",
    "print(\"Mean Absolute Error:\", mae)\n",
    "print(\"Mean Squared Error:\", mse)\n",
    "print(\"R2 Score:\", rsq)"
   ]
  },
  {
   "cell_type": "code",
   "execution_count": 36,
   "metadata": {},
   "outputs": [
    {
     "name": "stdout",
     "output_type": "stream",
     "text": [
      "0.4031058770606292\n"
     ]
    },
    {
     "data": {
      "text/plain": [
       "Text(0, 0.5, 'Diameter: Predicted value')"
      ]
     },
     "execution_count": 36,
     "metadata": {},
     "output_type": "execute_result"
    },
    {
     "data": {
      "image/png": "[encoded data removed]",
      "text/plain": [
       "<Figure size 432x288 with 1 Axes>"
      ]
     },
     "metadata": {
      "needs_background": "light"
     },
     "output_type": "display_data"
    }
   ],
   "source": [
    "# plot actual values against expected values\n",
    "x = np.array(Y)\n",
    "y = np.array(nasa_diameter)\n",
    "print(metrics.mean_squared_error(x, y))\n",
    "plt.scatter(x, y, s = 3)\n",
    "plt.title(\"NASA Formula\")\n",
    "plt.xlabel(\"Diameter: Actual value\")\n",
    "plt.ylabel(\"Diameter: Predicted value\")"
   ]
  }
 ],
 "metadata": {
  "kernelspec": {
   "display_name": "Python 3.9.12 ('base')",
   "language": "python",
   "name": "python3"
  },
  "language_info": {
   "codemirror_mode": {
    "name": "ipython",
    "version": 3
   },
   "file_extension": ".py",
   "mimetype": "text/x-python",
   "name": "python",
   "nbconvert_exporter": "python",
   "pygments_lexer": "ipython3",
   "version": "3.9.12"
  },
  "orig_nbformat": 4,
  "vscode": {
   "interpreter": {
    "hash": "8e63610907b05fe35711c35d7a559f5b46704a8a8dda4b81151c10b8cf6c93c2"
   }
  }
 },
 "nbformat": 4,
 "nbformat_minor": 2
}
